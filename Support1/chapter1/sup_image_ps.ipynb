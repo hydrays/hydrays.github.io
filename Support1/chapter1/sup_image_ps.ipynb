{
 "cells": [
  {
   "cell_type": "markdown",
   "id": "0dbb1157",
   "metadata": {},
   "source": [
    "## IoU（交并比）的定义与计算\n",
    "\n",
    "\\*\\*交并比（Intersection over Union, IoU）\\*\\*是评价目标检测和分割任务中预测结果与真实标注重叠程度的常用指标。其定义与集合论吻合：对于两个掩码对应的集合 $A$（真值）和 $B$（预测），IoU 的计算公式为\n",
    "\n",
    "$$\n",
    "\\mathrm{IoU}(A,B) \\;=\\; \\frac{|A \\cap B|}{|A \\cup B|},\n",
    "$$\n",
    "\n",
    "即交集区域的面积（像素数）除以并集区域的面积。直观地说，IoU 衡量了预测区域与真实区域的重合程度，范围在 0 到 1 之间：IoU 越接近 1，表示预测区域与真实区域重合度越高；IoU 越接近 0，则表示两者几乎没有重叠。\n",
    "\n",
    "下面示例代码创建两个简单掩码，并可视化它们的交集、并集和补集区域，同时计算 IoU 值："
   ]
  },
  {
   "cell_type": "code",
   "execution_count": null,
   "id": "6964cad0",
   "metadata": {},
   "outputs": [
    {
     "name": "stdout",
     "output_type": "stream",
     "text": [
      "IoU(maskA, maskB) = 0.293\n"
     ]
    },
    {
     "data": {
      "image/png": "[encoded data removed]",
      "text/plain": [
       "<Figure size 800x200 with 4 Axes>"
      ]
     },
     "metadata": {},
     "output_type": "display_data"
    }
   ],
   "source": [
    "import numpy as np\n",
    "import matplotlib.pyplot as plt\n",
    "\n",
    "# 构造示例二值掩码（这里直接用数组生成，也可以从图像分割得到）\n",
    "maskA = np.zeros((100, 100), dtype=bool)\n",
    "maskB = np.zeros((100, 100), dtype=bool)\n",
    "# 比如绘制两个重叠的圆形掩码\n",
    "yy, xx = np.meshgrid(np.arange(100), np.arange(100))\n",
    "maskA[(xx-30)**2 + (yy-50)**2 < 20**2] = True  # 圆心(30,50)，半径20\n",
    "maskB[(xx-50)**2 + (yy-50)**2 < 30**2] = True  # 圆心(50,50)，半径30\n",
    "\n",
    "# 计算集合运算\n",
    "intersection = maskA & maskB\n",
    "union = maskA | maskB\n",
    "complementA = ~maskA\n",
    "\n",
    "# 计算 IoU\n",
    "iou_value = intersection.sum() / union.sum()\n",
    "print(f\"IoU(maskA, maskB) = {iou_value:.3f}\")\n",
    "\n",
    "# 可视化\n",
    "fig, axs = plt.subplots(1, 4, figsize=(8,2))\n",
    "axs[0].imshow(maskA, cmap='gray');     axs[0].set_title('Mask A')\n",
    "axs[0].imshow(complementA, cmap='gray');     axs[0].set_title('Aomplement of mask A')\n",
    "axs[1].imshow(maskB, cmap='gray');     axs[1].set_title('Mask B')\n",
    "axs[2].imshow(intersection, cmap='gray'); axs[2].set_title('A ∩ B')\n",
    "axs[3].imshow(union, cmap='gray');      axs[3].set_title('A ∪ B')\n",
    "for ax in axs:\n",
    "    ax.axis('off')\n",
    "plt.show()"
   ]
  },
  {
   "cell_type": "markdown",
   "id": "eebc3215",
   "metadata": {},
   "source": [
    "上述代码中，我们用 NumPy 创建了两个二值掩码 `maskA`、`maskB`（分别是两个圆形区域），然后计算它们的交集和并集，并打印出 IoU 值。运行结果显示，**交集**区域（`A ∩ B`）即为两个圆形重叠的部分，**并集**区域（`A ∪ B`）是所有被任一圆形覆盖的区域，而两者面积之比就是 IoU。通过这种图形化展示，大学一年级同学能直观理解交并比的含义：IoU 本质上就是两个掩码区域重叠部分占全部覆盖区域的比例。\n",
    "\n",
    "### 在 AI 中的应用\n",
    "\n",
    "在目标检测、实例分割或语义分割等 AI 任务中，交并比有着重要的几何意义。它反映了模型预测区域与真实标注在空间上的重合程度。例如，在目标检测中，一个预测框只有当它与真实框的 IoU 高于阈值（如0.5）时，才被算作正确识别。在语义分割中，像素级的 IoU（Jaccard 指数）衡量预测的分割掩码与真实掩码的一致程度。较高的 IoU 表明模型在精确定位目标和分割边界上更为准确；反之，较低的 IoU 可能意味着错位或形变较大。"
   ]
  }
 ],
 "metadata": {
  "kernelspec": {
   "display_name": "Python 3",
   "language": "python",
   "name": "python3"
  },
  "language_info": {
   "codemirror_mode": {
    "name": "ipython",
    "version": 3
   },
   "file_extension": ".py",
   "mimetype": "text/x-python",
   "name": "python",
   "nbconvert_exporter": "python",
   "pygments_lexer": "ipython3",
   "version": "3.12.6"
  }
 },
 "nbformat": 4,
 "nbformat_minor": 5
}
